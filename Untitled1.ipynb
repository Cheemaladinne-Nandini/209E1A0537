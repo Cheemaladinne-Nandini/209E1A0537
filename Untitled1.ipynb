{
  "nbformat": 4,
  "nbformat_minor": 0,
  "metadata": {
    "colab": {
      "provenance": [],
      "toc_visible": true,
      "authorship_tag": "ABX9TyMOBOqyD3NkBK+wYOhVxI46",
      "include_colab_link": true
    },
    "kernelspec": {
      "name": "python3",
      "display_name": "Python 3"
    },
    "language_info": {
      "name": "python"
    }
  },
  "cells": [
    {
      "cell_type": "markdown",
      "metadata": {
        "id": "view-in-github",
        "colab_type": "text"
      },
      "source": [
        "<a href=\"https://colab.research.google.com/github/Cheemaladinne-Nandini/209E1A0537/blob/main/Untitled1.ipynb\" target=\"_parent\"><img src=\"https://colab.research.google.com/assets/colab-badge.svg\" alt=\"Open In Colab\"/></a>"
      ]
    },
    {
      "cell_type": "code",
      "execution_count": 14,
      "metadata": {
        "colab": {
          "base_uri": "https://localhost:8080/"
        },
        "id": "d60-jYb78_y3",
        "outputId": "e8b9a3d5-b1ab-46dd-bd9a-56a7ddd05483"
      },
      "outputs": [
        {
          "output_type": "stream",
          "name": "stdout",
          "text": [
            "2pushed to stack\n",
            "3pushed to stack\n",
            "3poped from the stack\n",
            "1\n"
          ]
        }
      ],
      "source": [
        "class stack(object):\n",
        "  def __init__(self):\n",
        "    self.stack=[]\n",
        "    self.n=0\n",
        "  def isempty(self):\n",
        "    return self.stack==[]\n",
        "  def push(self,data):\n",
        "    self.stack.insert(self.n,data)\n",
        "    self.n+=1\n",
        "    return '{}pushed to stack'.format(data)\n",
        "  def pop(self):\n",
        "    self.n-=1\n",
        "    data =self.stack.pop(self.n)\n",
        "    return '{}poped from the stack'.format(data)\n",
        "  def size(self):\n",
        "    return len(self.stack)\n",
        "if __name__ == '__main__':\n",
        "  s=stack()\n",
        "  print(s.push(2))\n",
        "  print(s.push(3))\n",
        "  print(s.pop())\n",
        "  print(s.size())"
      ]
    }
  ]
}